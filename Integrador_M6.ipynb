{
 "cells": [
  {
   "cell_type": "markdown",
   "metadata": {},
   "source": [
    "# Integrador del Módulo 6"
   ]
  },
  {
   "cell_type": "markdown",
   "metadata": {},
   "source": [
    "### Realizamos la Extracción, Transformación y Carga\n",
    "\n",
    "Se realiza el ETL sobre el dataframe provisto por el cliente."
   ]
  },
  {
   "cell_type": "markdown",
   "metadata": {},
   "source": [
    "##### Importamos las librerías"
   ]
  },
  {
   "cell_type": "code",
   "execution_count": 55,
   "metadata": {},
   "outputs": [],
   "source": [
    "import numpy as np \n",
    "import pandas as pd \n",
    "import matplotlib.pyplot as plt\n",
    "import seaborn as sns\n",
    "import os"
   ]
  },
  {
   "cell_type": "markdown",
   "metadata": {},
   "source": [
    "##### Cargamos el Dataframe"
   ]
  },
  {
   "cell_type": "code",
   "execution_count": 56,
   "metadata": {},
   "outputs": [
    {
     "name": "stderr",
     "output_type": "stream",
     "text": [
      "C:\\Users\\Cebol\\AppData\\Local\\Packages\\PythonSoftwareFoundation.Python.3.10_qbz5n2kfra8p0\\LocalCache\\local-packages\\Python310\\site-packages\\openpyxl\\worksheet\\_reader.py:329: UserWarning: Unknown extension is not supported and will be removed\n",
      "  warn(msg)\n"
     ]
    }
   ],
   "source": [
    "df=pd.read_excel(r\"Datasets/BBDD_Hospitalización.xlsx\")"
   ]
  },
  {
   "cell_type": "markdown",
   "metadata": {},
   "source": [
    "##### Realizamos una descripción general de los datos"
   ]
  },
  {
   "cell_type": "markdown",
   "metadata": {},
   "source": [
    "Se realiza una exploración de los datos, para conocer su estructura y tipos de datos, para obtener la información. "
   ]
  },
  {
   "cell_type": "code",
   "execution_count": 57,
   "metadata": {},
   "outputs": [
    {
     "data": {
      "text/html": [
       "<div>\n",
       "<style scoped>\n",
       "    .dataframe tbody tr th:only-of-type {\n",
       "        vertical-align: middle;\n",
       "    }\n",
       "\n",
       "    .dataframe tbody tr th {\n",
       "        vertical-align: top;\n",
       "    }\n",
       "\n",
       "    .dataframe thead th {\n",
       "        text-align: right;\n",
       "    }\n",
       "</style>\n",
       "<table border=\"1\" class=\"dataframe\">\n",
       "  <thead>\n",
       "    <tr style=\"text-align: right;\">\n",
       "      <th></th>\n",
       "      <th>EDAD</th>\n",
       "      <th>DIABETES</th>\n",
       "      <th>HOSPITALIZACIÓN ULTIMO MES</th>\n",
       "      <th>PSA</th>\n",
       "      <th>BIOPSIAS PREVIAS</th>\n",
       "      <th>VOLUMEN PROSTATICO</th>\n",
       "      <th>ANTIBIOTICO UTILIAZADO EN LA PROFILAXIS</th>\n",
       "      <th>NUMERO DE MUESTRAS TOMADAS</th>\n",
       "      <th>CUP</th>\n",
       "      <th>ENF. CRONICA PULMONAR OBSTRUCTIVA</th>\n",
       "      <th>BIOPSIA</th>\n",
       "      <th>NUMERO DE DIAS POST BIOPSIA EN QUE SE PRESENTA LA COMPLICACIÓN INFECCIOSA</th>\n",
       "      <th>FIEBRE</th>\n",
       "      <th>ITU</th>\n",
       "      <th>TIPO DE CULTIVO</th>\n",
       "      <th>AGENTE AISLADO</th>\n",
       "      <th>PATRON DE RESISTENCIA</th>\n",
       "      <th>HOSPITALIZACION</th>\n",
       "      <th>DIAS HOSPITALIZACION MQ</th>\n",
       "      <th>DIAS HOSPITALIZACIÓN UPC</th>\n",
       "    </tr>\n",
       "  </thead>\n",
       "  <tbody>\n",
       "    <tr>\n",
       "      <th>0</th>\n",
       "      <td>53.0</td>\n",
       "      <td>NO</td>\n",
       "      <td>NO</td>\n",
       "      <td>4.0</td>\n",
       "      <td>NO</td>\n",
       "      <td>SI</td>\n",
       "      <td>FLUOROQUINOLONA_AMINOGLICOSIDO</td>\n",
       "      <td>12.0</td>\n",
       "      <td>NO</td>\n",
       "      <td>NO</td>\n",
       "      <td>NEG</td>\n",
       "      <td>1</td>\n",
       "      <td>SI</td>\n",
       "      <td>NO</td>\n",
       "      <td>NO</td>\n",
       "      <td>NO</td>\n",
       "      <td>NO</td>\n",
       "      <td>SI</td>\n",
       "      <td>2.0</td>\n",
       "      <td>0.0</td>\n",
       "    </tr>\n",
       "    <tr>\n",
       "      <th>1</th>\n",
       "      <td>56.0</td>\n",
       "      <td>NO</td>\n",
       "      <td>NO</td>\n",
       "      <td>7.7</td>\n",
       "      <td>NO</td>\n",
       "      <td>SI</td>\n",
       "      <td>FLUOROQUINOLONA_AMINOGLICOSIDO</td>\n",
       "      <td>12.0</td>\n",
       "      <td>NO</td>\n",
       "      <td>NO</td>\n",
       "      <td>NEG</td>\n",
       "      <td>1</td>\n",
       "      <td>SI</td>\n",
       "      <td>NO</td>\n",
       "      <td>NO</td>\n",
       "      <td>NO</td>\n",
       "      <td>NO</td>\n",
       "      <td>SI</td>\n",
       "      <td>5.0</td>\n",
       "      <td>0.0</td>\n",
       "    </tr>\n",
       "    <tr>\n",
       "      <th>2</th>\n",
       "      <td>57.0</td>\n",
       "      <td>NO</td>\n",
       "      <td>NO</td>\n",
       "      <td>29.0</td>\n",
       "      <td>SI</td>\n",
       "      <td>SI</td>\n",
       "      <td>FLUOROQUINOLONA_AMINOGLICOSIDO</td>\n",
       "      <td>24.0</td>\n",
       "      <td>NO</td>\n",
       "      <td>NO</td>\n",
       "      <td>NEG</td>\n",
       "      <td>1</td>\n",
       "      <td>SI</td>\n",
       "      <td>NO</td>\n",
       "      <td>HEMOCULTIVO</td>\n",
       "      <td>E.COLI</td>\n",
       "      <td>AMPI R, CIPRO R, GENTA R, SULFA M R</td>\n",
       "      <td>SI</td>\n",
       "      <td>4.0</td>\n",
       "      <td>3.0</td>\n",
       "    </tr>\n",
       "    <tr>\n",
       "      <th>3</th>\n",
       "      <td>56.0</td>\n",
       "      <td>NO</td>\n",
       "      <td>NO</td>\n",
       "      <td>7.0</td>\n",
       "      <td>NO</td>\n",
       "      <td>SI</td>\n",
       "      <td>FLUOROQUINOLONA_AMINOGLICOSIDO</td>\n",
       "      <td>12.0</td>\n",
       "      <td>NO</td>\n",
       "      <td>NO</td>\n",
       "      <td>NEG</td>\n",
       "      <td>1</td>\n",
       "      <td>SI</td>\n",
       "      <td>NO</td>\n",
       "      <td>NO</td>\n",
       "      <td>NO</td>\n",
       "      <td>NO</td>\n",
       "      <td>SI</td>\n",
       "      <td>5.0</td>\n",
       "      <td>0.0</td>\n",
       "    </tr>\n",
       "    <tr>\n",
       "      <th>4</th>\n",
       "      <td>55.0</td>\n",
       "      <td>NO</td>\n",
       "      <td>NO</td>\n",
       "      <td>29.0</td>\n",
       "      <td>SI</td>\n",
       "      <td>SI</td>\n",
       "      <td>FLUOROQUINOLONA_AMINOGLICOSIDO</td>\n",
       "      <td>24.0</td>\n",
       "      <td>NO</td>\n",
       "      <td>NO</td>\n",
       "      <td>NEG</td>\n",
       "      <td>1</td>\n",
       "      <td>SI</td>\n",
       "      <td>NO</td>\n",
       "      <td>HEMOCULTIVO</td>\n",
       "      <td>E.COLI</td>\n",
       "      <td>NO</td>\n",
       "      <td>SI</td>\n",
       "      <td>4.0</td>\n",
       "      <td>3.0</td>\n",
       "    </tr>\n",
       "  </tbody>\n",
       "</table>\n",
       "</div>"
      ],
      "text/plain": [
       "   EDAD DIABETES HOSPITALIZACIÓN ULTIMO MES   PSA BIOPSIAS PREVIAS  \\\n",
       "0  53.0       NO                         NO   4.0               NO   \n",
       "1  56.0       NO                         NO   7.7               NO   \n",
       "2  57.0       NO                         NO  29.0               SI   \n",
       "3  56.0       NO                         NO   7.0               NO   \n",
       "4  55.0       NO                         NO  29.0               SI   \n",
       "\n",
       "  VOLUMEN PROSTATICO ANTIBIOTICO UTILIAZADO EN LA PROFILAXIS  \\\n",
       "0                 SI          FLUOROQUINOLONA_AMINOGLICOSIDO   \n",
       "1                 SI          FLUOROQUINOLONA_AMINOGLICOSIDO   \n",
       "2                 SI          FLUOROQUINOLONA_AMINOGLICOSIDO   \n",
       "3                 SI          FLUOROQUINOLONA_AMINOGLICOSIDO   \n",
       "4                 SI          FLUOROQUINOLONA_AMINOGLICOSIDO   \n",
       "\n",
       "   NUMERO DE MUESTRAS TOMADAS CUP ENF. CRONICA PULMONAR OBSTRUCTIVA BIOPSIA  \\\n",
       "0                        12.0  NO                                NO     NEG   \n",
       "1                        12.0  NO                                NO     NEG   \n",
       "2                        24.0  NO                                NO     NEG   \n",
       "3                        12.0  NO                                NO     NEG   \n",
       "4                        24.0  NO                                NO     NEG   \n",
       "\n",
       "  NUMERO DE DIAS POST BIOPSIA EN QUE SE PRESENTA LA COMPLICACIÓN INFECCIOSA  \\\n",
       "0                                                  1                          \n",
       "1                                                  1                          \n",
       "2                                                  1                          \n",
       "3                                                  1                          \n",
       "4                                                  1                          \n",
       "\n",
       "  FIEBRE ITU TIPO DE CULTIVO AGENTE AISLADO  \\\n",
       "0     SI  NO              NO             NO   \n",
       "1     SI  NO              NO             NO   \n",
       "2     SI  NO     HEMOCULTIVO         E.COLI   \n",
       "3     SI  NO              NO             NO   \n",
       "4     SI  NO     HEMOCULTIVO         E.COLI   \n",
       "\n",
       "                  PATRON DE RESISTENCIA HOSPITALIZACION  \\\n",
       "0                                    NO              SI   \n",
       "1                                    NO              SI   \n",
       "2   AMPI R, CIPRO R, GENTA R, SULFA M R              SI   \n",
       "3                                    NO              SI   \n",
       "4                                    NO              SI   \n",
       "\n",
       "   DIAS HOSPITALIZACION MQ  DIAS HOSPITALIZACIÓN UPC  \n",
       "0                      2.0                       0.0  \n",
       "1                      5.0                       0.0  \n",
       "2                      4.0                       3.0  \n",
       "3                      5.0                       0.0  \n",
       "4                      4.0                       3.0  "
      ]
     },
     "execution_count": 57,
     "metadata": {},
     "output_type": "execute_result"
    }
   ],
   "source": [
    "df.head()"
   ]
  },
  {
   "cell_type": "code",
   "execution_count": 58,
   "metadata": {},
   "outputs": [
    {
     "name": "stdout",
     "output_type": "stream",
     "text": [
      "<class 'pandas.core.frame.DataFrame'>\n",
      "RangeIndex: 570 entries, 0 to 569\n",
      "Data columns (total 20 columns):\n",
      " #   Column                                                                     Non-Null Count  Dtype  \n",
      "---  ------                                                                     --------------  -----  \n",
      " 0   EDAD                                                                       568 non-null    float64\n",
      " 1   DIABETES                                                                   568 non-null    object \n",
      " 2   HOSPITALIZACIÓN ULTIMO MES                                                 568 non-null    object \n",
      " 3   PSA                                                                        564 non-null    float64\n",
      " 4   BIOPSIAS PREVIAS                                                           566 non-null    object \n",
      " 5   VOLUMEN PROSTATICO                                                         567 non-null    object \n",
      " 6   ANTIBIOTICO UTILIAZADO EN LA PROFILAXIS                                    568 non-null    object \n",
      " 7   NUMERO DE MUESTRAS TOMADAS                                                 568 non-null    float64\n",
      " 8   CUP                                                                        567 non-null    object \n",
      " 9   ENF. CRONICA PULMONAR OBSTRUCTIVA                                          566 non-null    object \n",
      " 10  BIOPSIA                                                                    568 non-null    object \n",
      " 11  NUMERO DE DIAS POST BIOPSIA EN QUE SE PRESENTA LA COMPLICACIÓN INFECCIOSA  568 non-null    object \n",
      " 12  FIEBRE                                                                     568 non-null    object \n",
      " 13  ITU                                                                        568 non-null    object \n",
      " 14  TIPO DE CULTIVO                                                            568 non-null    object \n",
      " 15  AGENTE AISLADO                                                             551 non-null    object \n",
      " 16  PATRON DE RESISTENCIA                                                      568 non-null    object \n",
      " 17  HOSPITALIZACION                                                            565 non-null    object \n",
      " 18  DIAS HOSPITALIZACION MQ                                                    568 non-null    float64\n",
      " 19  DIAS HOSPITALIZACIÓN UPC                                                   568 non-null    float64\n",
      "dtypes: float64(5), object(15)\n",
      "memory usage: 89.2+ KB\n"
     ]
    }
   ],
   "source": [
    "df.info()"
   ]
  },
  {
   "cell_type": "markdown",
   "metadata": {},
   "source": [
    "##### Visualizamos los valores nulos y procedemos a la imputación de 2 filas de datos, que contienen la mayoría de los datos Nan"
   ]
  },
  {
   "cell_type": "code",
   "execution_count": 59,
   "metadata": {},
   "outputs": [
    {
     "data": {
      "text/plain": [
       "EDAD                                                                          2\n",
       "DIABETES                                                                      2\n",
       "HOSPITALIZACIÓN ULTIMO MES                                                    2\n",
       "PSA                                                                           6\n",
       "BIOPSIAS PREVIAS                                                              4\n",
       "VOLUMEN PROSTATICO                                                            3\n",
       "ANTIBIOTICO UTILIAZADO EN LA PROFILAXIS                                       2\n",
       "NUMERO DE MUESTRAS TOMADAS                                                    2\n",
       "CUP                                                                           3\n",
       "ENF. CRONICA PULMONAR OBSTRUCTIVA                                             4\n",
       "BIOPSIA                                                                       2\n",
       "NUMERO DE DIAS POST BIOPSIA EN QUE SE PRESENTA LA COMPLICACIÓN INFECCIOSA     2\n",
       "FIEBRE                                                                        2\n",
       "ITU                                                                           2\n",
       "TIPO DE CULTIVO                                                               2\n",
       "AGENTE AISLADO                                                               19\n",
       "PATRON DE RESISTENCIA                                                         2\n",
       "HOSPITALIZACION                                                               5\n",
       "DIAS HOSPITALIZACION MQ                                                       2\n",
       "DIAS HOSPITALIZACIÓN UPC                                                      2\n",
       "dtype: int64"
      ]
     },
     "execution_count": 59,
     "metadata": {},
     "output_type": "execute_result"
    }
   ],
   "source": [
    "df.isna().sum()"
   ]
  },
  {
   "cell_type": "code",
   "execution_count": 60,
   "metadata": {},
   "outputs": [],
   "source": [
    "df = df.dropna(subset=[\"EDAD\"])"
   ]
  },
  {
   "cell_type": "code",
   "execution_count": 61,
   "metadata": {},
   "outputs": [
    {
     "data": {
      "text/plain": [
       "EDAD                                                                          0\n",
       "DIABETES                                                                      0\n",
       "HOSPITALIZACIÓN ULTIMO MES                                                    0\n",
       "PSA                                                                           4\n",
       "BIOPSIAS PREVIAS                                                              2\n",
       "VOLUMEN PROSTATICO                                                            1\n",
       "ANTIBIOTICO UTILIAZADO EN LA PROFILAXIS                                       0\n",
       "NUMERO DE MUESTRAS TOMADAS                                                    0\n",
       "CUP                                                                           1\n",
       "ENF. CRONICA PULMONAR OBSTRUCTIVA                                             2\n",
       "BIOPSIA                                                                       0\n",
       "NUMERO DE DIAS POST BIOPSIA EN QUE SE PRESENTA LA COMPLICACIÓN INFECCIOSA     0\n",
       "FIEBRE                                                                        0\n",
       "ITU                                                                           0\n",
       "TIPO DE CULTIVO                                                               0\n",
       "AGENTE AISLADO                                                               17\n",
       "PATRON DE RESISTENCIA                                                         0\n",
       "HOSPITALIZACION                                                               3\n",
       "DIAS HOSPITALIZACION MQ                                                       0\n",
       "DIAS HOSPITALIZACIÓN UPC                                                      0\n",
       "dtype: int64"
      ]
     },
     "execution_count": 61,
     "metadata": {},
     "output_type": "execute_result"
    }
   ],
   "source": [
    "df.isna().sum()"
   ]
  },
  {
   "cell_type": "markdown",
   "metadata": {},
   "source": [
    "Modificamos los \"Nan\" en los campos donde existan"
   ]
  },
  {
   "cell_type": "code",
   "execution_count": 77,
   "metadata": {},
   "outputs": [
    {
     "name": "stderr",
     "output_type": "stream",
     "text": [
      "C:\\Users\\Cebol\\AppData\\Local\\Temp\\ipykernel_4120\\3300301686.py:1: FutureWarning: The 'method' keyword in Series.replace is deprecated and will be removed in a future version.\n",
      "  df['PSA'] = df['PSA'].replace(to_replace=[0, pd.NA], method='ffill').round(2)\n"
     ]
    }
   ],
   "source": [
    "\n",
    "df['PSA'] = df['PSA'].replace(to_replace=[0, pd.NA], method='ffill').round(2)\n",
    "df['BIOPSIAS PREVIAS'] = df['BIOPSIAS PREVIAS'].fillna('NO')\n",
    "df['VOLUMEN PROSTATICO']=df['VOLUMEN PROSTATICO'].fillna('NO')\n",
    "df['CUP']=df['CUP'].fillna('NO')\n",
    "df['ENF. CRONICA PULMONAR OBSTRUCTIVA']=df['ENF. CRONICA PULMONAR OBSTRUCTIVA'].fillna('NO')\n",
    "df['AGENTE AISLADO']=df['AGENTE AISLADO'].fillna('NO')\n",
    "df['HOSPITALIZACION']=df['HOSPITALIZACION'].fillna('NO')\n"
   ]
  },
  {
   "cell_type": "markdown",
   "metadata": {},
   "source": [
    "\n",
    "##### Resumen estadístico del estado actual de las variables categóricas"
   ]
  },
  {
   "cell_type": "code",
   "execution_count": 70,
   "metadata": {},
   "outputs": [
    {
     "data": {
      "text/html": [
       "<div>\n",
       "<style scoped>\n",
       "    .dataframe tbody tr th:only-of-type {\n",
       "        vertical-align: middle;\n",
       "    }\n",
       "\n",
       "    .dataframe tbody tr th {\n",
       "        vertical-align: top;\n",
       "    }\n",
       "\n",
       "    .dataframe thead th {\n",
       "        text-align: right;\n",
       "    }\n",
       "</style>\n",
       "<table border=\"1\" class=\"dataframe\">\n",
       "  <thead>\n",
       "    <tr style=\"text-align: right;\">\n",
       "      <th></th>\n",
       "      <th>EDAD</th>\n",
       "      <th>PSA</th>\n",
       "      <th>NUMERO DE MUESTRAS TOMADAS</th>\n",
       "      <th>DIAS HOSPITALIZACION MQ</th>\n",
       "      <th>DIAS HOSPITALIZACIÓN UPC</th>\n",
       "    </tr>\n",
       "  </thead>\n",
       "  <tbody>\n",
       "    <tr>\n",
       "      <th>count</th>\n",
       "      <td>568.000000</td>\n",
       "      <td>568.000000</td>\n",
       "      <td>568.000000</td>\n",
       "      <td>568.000000</td>\n",
       "      <td>568.000000</td>\n",
       "    </tr>\n",
       "    <tr>\n",
       "      <th>mean</th>\n",
       "      <td>63.882042</td>\n",
       "      <td>13.233750</td>\n",
       "      <td>12.996479</td>\n",
       "      <td>0.165493</td>\n",
       "      <td>0.014085</td>\n",
       "    </tr>\n",
       "    <tr>\n",
       "      <th>std</th>\n",
       "      <td>9.281517</td>\n",
       "      <td>15.620699</td>\n",
       "      <td>3.921180</td>\n",
       "      <td>0.958066</td>\n",
       "      <td>0.196474</td>\n",
       "    </tr>\n",
       "    <tr>\n",
       "      <th>min</th>\n",
       "      <td>39.000000</td>\n",
       "      <td>0.600000</td>\n",
       "      <td>4.000000</td>\n",
       "      <td>0.000000</td>\n",
       "      <td>0.000000</td>\n",
       "    </tr>\n",
       "    <tr>\n",
       "      <th>25%</th>\n",
       "      <td>59.000000</td>\n",
       "      <td>5.675000</td>\n",
       "      <td>12.000000</td>\n",
       "      <td>0.000000</td>\n",
       "      <td>0.000000</td>\n",
       "    </tr>\n",
       "    <tr>\n",
       "      <th>50%</th>\n",
       "      <td>64.000000</td>\n",
       "      <td>8.000000</td>\n",
       "      <td>12.000000</td>\n",
       "      <td>0.000000</td>\n",
       "      <td>0.000000</td>\n",
       "    </tr>\n",
       "    <tr>\n",
       "      <th>75%</th>\n",
       "      <td>69.000000</td>\n",
       "      <td>15.000000</td>\n",
       "      <td>12.000000</td>\n",
       "      <td>0.000000</td>\n",
       "      <td>0.000000</td>\n",
       "    </tr>\n",
       "    <tr>\n",
       "      <th>max</th>\n",
       "      <td>151.000000</td>\n",
       "      <td>100.000000</td>\n",
       "      <td>24.000000</td>\n",
       "      <td>12.000000</td>\n",
       "      <td>3.000000</td>\n",
       "    </tr>\n",
       "  </tbody>\n",
       "</table>\n",
       "</div>"
      ],
      "text/plain": [
       "             EDAD         PSA  NUMERO DE MUESTRAS TOMADAS  \\\n",
       "count  568.000000  568.000000                  568.000000   \n",
       "mean    63.882042   13.233750                   12.996479   \n",
       "std      9.281517   15.620699                    3.921180   \n",
       "min     39.000000    0.600000                    4.000000   \n",
       "25%     59.000000    5.675000                   12.000000   \n",
       "50%     64.000000    8.000000                   12.000000   \n",
       "75%     69.000000   15.000000                   12.000000   \n",
       "max    151.000000  100.000000                   24.000000   \n",
       "\n",
       "       DIAS HOSPITALIZACION MQ  DIAS HOSPITALIZACIÓN UPC  \n",
       "count               568.000000                568.000000  \n",
       "mean                  0.165493                  0.014085  \n",
       "std                   0.958066                  0.196474  \n",
       "min                   0.000000                  0.000000  \n",
       "25%                   0.000000                  0.000000  \n",
       "50%                   0.000000                  0.000000  \n",
       "75%                   0.000000                  0.000000  \n",
       "max                  12.000000                  3.000000  "
      ]
     },
     "execution_count": 70,
     "metadata": {},
     "output_type": "execute_result"
    }
   ],
   "source": [
    "df.describe()"
   ]
  },
  {
   "cell_type": "code",
   "execution_count": null,
   "metadata": {},
   "outputs": [],
   "source": [
    "df.describe(include=['category', 'object'])"
   ]
  },
  {
   "cell_type": "markdown",
   "metadata": {},
   "source": [
    "### Transformamos los tipos de datos"
   ]
  },
  {
   "cell_type": "code",
   "execution_count": null,
   "metadata": {},
   "outputs": [],
   "source": [
    "df['DIABETES'] = df['DIABETES'].astype('category')\n",
    "df['HOSPITALIZACIÓN ULTIMO MES'] = df['HOSPITALIZACIÓN ULTIMO MES'].astype('category')\n",
    "df['BIOPSIAS PREVIAS'] = df['BIOPSIAS PREVIAS'].astype('category')\n",
    "df['VOLUMEN PROSTATICO'] = df['VOLUMEN PROSTATICO'].astype('category')\n",
    "df['ANTIBIOTICO UTILIAZADO EN LA PROFILAXIS'] = df['ANTIBIOTICO UTILIAZADO EN LA PROFILAXIS'].astype('category')\n",
    "df['CUP'] = df['CUP'].astype('category')\n",
    "df['ENF. CRONICA PULMONAR OBSTRUCTIVA'] = df['ENF. CRONICA PULMONAR OBSTRUCTIVA'].astype('category')\n",
    "df['BIOPSIA'] = df['BIOPSIA'].astype('category')\n",
    "df['NUMERO DE DIAS POST BIOPSIA EN QUE SE PRESENTA LA COMPLICACIÓN INFECCIOSA'] = df['NUMERO DE DIAS POST BIOPSIA EN QUE SE PRESENTA LA COMPLICACIÓN INFECCIOSA'].astype('category')\n",
    "df['FIEBRE'] =df['FIEBRE'].astype('category')\n",
    "df['ITU'] =df['ITU'].astype('category')\n",
    "df['TIPO DE CULTIVO'] =df['TIPO DE CULTIVO'].astype('str')\n",
    "df['AGENTE AISLADO'] =df['AGENTE AISLADO'].astype('str')\n",
    "df['PATRON DE RESISTENCIA'] =df['PATRON DE RESISTENCIA'].astype('category')\n",
    "df['HOSPITALIZACION'] =df['HOSPITALIZACION'].astype('category')"
   ]
  },
  {
   "cell_type": "markdown",
   "metadata": {},
   "source": [
    "### Realizamos la estandarización y correciones por columna categórica"
   ]
  },
  {
   "cell_type": "markdown",
   "metadata": {},
   "source": [
    "Crearemos una columna que ayude a segmentar la columna 'ENF. CRONICA PULMONAR OBSTRUCTIVA'\n"
   ]
  },
  {
   "cell_type": "code",
   "execution_count": null,
   "metadata": {},
   "outputs": [],
   "source": [
    "# 1. Duplicamos la columna\n",
    "df['ENF. CRONICA PULMONAR OBSTRUCTIVA TIPO']=df['ENF. CRONICA PULMONAR OBSTRUCTIVA'].copy()\n",
    "# 2. Corregimos la columna 'ENF. CRONICA PULMONAR OBSTRUCTIVA'\n",
    "df['ENF. CRONICA PULMONAR OBSTRUCTIVA']=df['ENF. CRONICA PULMONAR OBSTRUCTIVA'].replace({'SI, EPOC','SI, ASMA'},'SI')\n",
    "# 3. Corregimos la columa 'ENF. CRONICA PULMONAR OBSTRUCTIVA TIPO'\n",
    "df['ENF. CRONICA PULMONAR OBSTRUCTIVA TIPO']=df['ENF. CRONICA PULMONAR OBSTRUCTIVA TIPO'].replace('SI, EPOC','EPOC')\n",
    "df['ENF. CRONICA PULMONAR OBSTRUCTIVA TIPO']=df['ENF. CRONICA PULMONAR OBSTRUCTIVA TIPO'].replace('SI, ASMA','ASMA')\n",
    "\n"
   ]
  },
  {
   "cell_type": "code",
   "execution_count": null,
   "metadata": {},
   "outputs": [],
   "source": [
    "# Corregimos los valores duplicados\n",
    "df['ANTIBIOTICO UTILIAZADO EN LA PROFILAXIS'] = df['ANTIBIOTICO UTILIAZADO EN LA PROFILAXIS'].replace('FLUOROQUINOLONA_AMINOGLICÓSIDO', 'FLUOROQUINOLONA_AMINOGLICOSIDO')"
   ]
  },
  {
   "cell_type": "code",
   "execution_count": null,
   "metadata": {},
   "outputs": [],
   "source": [
    "# Corregiremos la columna, recortando los espacios a los costados\n",
    "df['BIOPSIA']=df['BIOPSIA'].str.strip()"
   ]
  },
  {
   "cell_type": "code",
   "execution_count": null,
   "metadata": {},
   "outputs": [],
   "source": [
    "# Corregimos los nombres de las columnas \n",
    "nombres_nuevos = {\n",
    "    \"EDAD\": \"Edad\",\n",
    "    \"DIABETES\": \"Diabetes\",\n",
    "    \"HOSPITALIZACIÓN ULTIMO MES\": \"Hosp_ult_mes\",\n",
    "    \"BIOPSIAS PREVIAS\": \"Biopsias_prev\",\n",
    "    \"VOLUMEN PROSTATICO\": \"Vol_prostatico\",\n",
    "    \"ANTIBIOTICO UTILIAZADO EN LA PROFILAXIS\": \"Antib_en_profilaxis\",\n",
    "    \"NUMERO DE MUESTRAS TOMADAS\": \"Nro_muestras\",\n",
    "    \"ENF. CRONICA PULMONAR OBSTRUCTIVA\": \"Epoc tipo\",\n",
    "    \"ENF. CRONICA PULMONAR OBSTRUCTIVA TIPO\": \"Epoc\",\n",
    "    \"BIOPSIA\": \"Biopsia\",\n",
    "    \"NUMERO DE DIAS POST BIOPSIA EN QUE SE PRESENTA LA COMPLICACIÓN INFECCIOSA\": \"Nro_dias_hasta_infecc\",\n",
    "    \"FIEBRE\": \"Fiebre\",\n",
    "    \"TIPO DE CULTIVO\": \"Tipo_cultivo\",\n",
    "    \"AGENTE AISLADO\": \"Ag_aislado\",\n",
    "    \"PATRON DE RESISTENCIA\": \"Patron_resistencia\",\n",
    "    \"HOSPITALIZACION\": \"Hosp\",\n",
    "    \"DIAS HOSPITALIZACION MQ\": \"Dias_hosp_mq\",\n",
    "    \"DIAS HOSPITALIZACIÓN UPC\": \"Dias_hosp_upc\"\n",
    "}\n",
    "df.rename(columns=nombres_nuevos, inplace=True)\n",
    "\n",
    "\n"
   ]
  },
  {
   "cell_type": "markdown",
   "metadata": {},
   "source": [
    "Se modifican los Outliers en el campo Edad"
   ]
  },
  {
   "cell_type": "code",
   "execution_count": null,
   "metadata": {},
   "outputs": [],
   "source": [
    "df[\"Edad\"] = df[\"Edad\"].where(df[\"Edad\"] <= 100, df[\"Edad\"].median())"
   ]
  },
  {
   "cell_type": "code",
   "execution_count": 69,
   "metadata": {},
   "outputs": [
    {
     "data": {
      "text/html": [
       "<div>\n",
       "<style scoped>\n",
       "    .dataframe tbody tr th:only-of-type {\n",
       "        vertical-align: middle;\n",
       "    }\n",
       "\n",
       "    .dataframe tbody tr th {\n",
       "        vertical-align: top;\n",
       "    }\n",
       "\n",
       "    .dataframe thead th {\n",
       "        text-align: right;\n",
       "    }\n",
       "</style>\n",
       "<table border=\"1\" class=\"dataframe\">\n",
       "  <thead>\n",
       "    <tr style=\"text-align: right;\">\n",
       "      <th></th>\n",
       "      <th>EDAD</th>\n",
       "      <th>DIABETES</th>\n",
       "      <th>HOSPITALIZACIÓN ULTIMO MES</th>\n",
       "      <th>PSA</th>\n",
       "      <th>BIOPSIAS PREVIAS</th>\n",
       "      <th>VOLUMEN PROSTATICO</th>\n",
       "      <th>ANTIBIOTICO UTILIAZADO EN LA PROFILAXIS</th>\n",
       "      <th>NUMERO DE MUESTRAS TOMADAS</th>\n",
       "      <th>CUP</th>\n",
       "      <th>ENF. CRONICA PULMONAR OBSTRUCTIVA</th>\n",
       "      <th>BIOPSIA</th>\n",
       "      <th>NUMERO DE DIAS POST BIOPSIA EN QUE SE PRESENTA LA COMPLICACIÓN INFECCIOSA</th>\n",
       "      <th>FIEBRE</th>\n",
       "      <th>ITU</th>\n",
       "      <th>TIPO DE CULTIVO</th>\n",
       "      <th>AGENTE AISLADO</th>\n",
       "      <th>PATRON DE RESISTENCIA</th>\n",
       "      <th>HOSPITALIZACION</th>\n",
       "      <th>DIAS HOSPITALIZACION MQ</th>\n",
       "      <th>DIAS HOSPITALIZACIÓN UPC</th>\n",
       "    </tr>\n",
       "  </thead>\n",
       "  <tbody>\n",
       "    <tr>\n",
       "      <th>0</th>\n",
       "      <td>53.0</td>\n",
       "      <td>NO</td>\n",
       "      <td>NO</td>\n",
       "      <td>4.0</td>\n",
       "      <td>NO</td>\n",
       "      <td>SI</td>\n",
       "      <td>FLUOROQUINOLONA_AMINOGLICOSIDO</td>\n",
       "      <td>12.0</td>\n",
       "      <td>NO</td>\n",
       "      <td>NO</td>\n",
       "      <td>NEG</td>\n",
       "      <td>1</td>\n",
       "      <td>SI</td>\n",
       "      <td>NO</td>\n",
       "      <td>NO</td>\n",
       "      <td>NO</td>\n",
       "      <td>NO</td>\n",
       "      <td>SI</td>\n",
       "      <td>2.0</td>\n",
       "      <td>0.0</td>\n",
       "    </tr>\n",
       "    <tr>\n",
       "      <th>1</th>\n",
       "      <td>56.0</td>\n",
       "      <td>NO</td>\n",
       "      <td>NO</td>\n",
       "      <td>7.7</td>\n",
       "      <td>NO</td>\n",
       "      <td>SI</td>\n",
       "      <td>FLUOROQUINOLONA_AMINOGLICOSIDO</td>\n",
       "      <td>12.0</td>\n",
       "      <td>NO</td>\n",
       "      <td>NO</td>\n",
       "      <td>NEG</td>\n",
       "      <td>1</td>\n",
       "      <td>SI</td>\n",
       "      <td>NO</td>\n",
       "      <td>NO</td>\n",
       "      <td>NO</td>\n",
       "      <td>NO</td>\n",
       "      <td>SI</td>\n",
       "      <td>5.0</td>\n",
       "      <td>0.0</td>\n",
       "    </tr>\n",
       "    <tr>\n",
       "      <th>2</th>\n",
       "      <td>57.0</td>\n",
       "      <td>NO</td>\n",
       "      <td>NO</td>\n",
       "      <td>29.0</td>\n",
       "      <td>SI</td>\n",
       "      <td>SI</td>\n",
       "      <td>FLUOROQUINOLONA_AMINOGLICOSIDO</td>\n",
       "      <td>24.0</td>\n",
       "      <td>NO</td>\n",
       "      <td>NO</td>\n",
       "      <td>NEG</td>\n",
       "      <td>1</td>\n",
       "      <td>SI</td>\n",
       "      <td>NO</td>\n",
       "      <td>HEMOCULTIVO</td>\n",
       "      <td>E.COLI</td>\n",
       "      <td>AMPI R, CIPRO R, GENTA R, SULFA M R</td>\n",
       "      <td>SI</td>\n",
       "      <td>4.0</td>\n",
       "      <td>3.0</td>\n",
       "    </tr>\n",
       "    <tr>\n",
       "      <th>3</th>\n",
       "      <td>56.0</td>\n",
       "      <td>NO</td>\n",
       "      <td>NO</td>\n",
       "      <td>7.0</td>\n",
       "      <td>NO</td>\n",
       "      <td>SI</td>\n",
       "      <td>FLUOROQUINOLONA_AMINOGLICOSIDO</td>\n",
       "      <td>12.0</td>\n",
       "      <td>NO</td>\n",
       "      <td>NO</td>\n",
       "      <td>NEG</td>\n",
       "      <td>1</td>\n",
       "      <td>SI</td>\n",
       "      <td>NO</td>\n",
       "      <td>NO</td>\n",
       "      <td>NO</td>\n",
       "      <td>NO</td>\n",
       "      <td>SI</td>\n",
       "      <td>5.0</td>\n",
       "      <td>0.0</td>\n",
       "    </tr>\n",
       "    <tr>\n",
       "      <th>4</th>\n",
       "      <td>55.0</td>\n",
       "      <td>NO</td>\n",
       "      <td>NO</td>\n",
       "      <td>29.0</td>\n",
       "      <td>SI</td>\n",
       "      <td>SI</td>\n",
       "      <td>FLUOROQUINOLONA_AMINOGLICOSIDO</td>\n",
       "      <td>24.0</td>\n",
       "      <td>NO</td>\n",
       "      <td>NO</td>\n",
       "      <td>NEG</td>\n",
       "      <td>1</td>\n",
       "      <td>SI</td>\n",
       "      <td>NO</td>\n",
       "      <td>HEMOCULTIVO</td>\n",
       "      <td>E.COLI</td>\n",
       "      <td>NO</td>\n",
       "      <td>SI</td>\n",
       "      <td>4.0</td>\n",
       "      <td>3.0</td>\n",
       "    </tr>\n",
       "  </tbody>\n",
       "</table>\n",
       "</div>"
      ],
      "text/plain": [
       "   EDAD DIABETES HOSPITALIZACIÓN ULTIMO MES   PSA BIOPSIAS PREVIAS  \\\n",
       "0  53.0       NO                         NO   4.0               NO   \n",
       "1  56.0       NO                         NO   7.7               NO   \n",
       "2  57.0       NO                         NO  29.0               SI   \n",
       "3  56.0       NO                         NO   7.0               NO   \n",
       "4  55.0       NO                         NO  29.0               SI   \n",
       "\n",
       "  VOLUMEN PROSTATICO ANTIBIOTICO UTILIAZADO EN LA PROFILAXIS  \\\n",
       "0                 SI          FLUOROQUINOLONA_AMINOGLICOSIDO   \n",
       "1                 SI          FLUOROQUINOLONA_AMINOGLICOSIDO   \n",
       "2                 SI          FLUOROQUINOLONA_AMINOGLICOSIDO   \n",
       "3                 SI          FLUOROQUINOLONA_AMINOGLICOSIDO   \n",
       "4                 SI          FLUOROQUINOLONA_AMINOGLICOSIDO   \n",
       "\n",
       "   NUMERO DE MUESTRAS TOMADAS CUP ENF. CRONICA PULMONAR OBSTRUCTIVA BIOPSIA  \\\n",
       "0                        12.0  NO                                NO     NEG   \n",
       "1                        12.0  NO                                NO     NEG   \n",
       "2                        24.0  NO                                NO     NEG   \n",
       "3                        12.0  NO                                NO     NEG   \n",
       "4                        24.0  NO                                NO     NEG   \n",
       "\n",
       "  NUMERO DE DIAS POST BIOPSIA EN QUE SE PRESENTA LA COMPLICACIÓN INFECCIOSA  \\\n",
       "0                                                  1                          \n",
       "1                                                  1                          \n",
       "2                                                  1                          \n",
       "3                                                  1                          \n",
       "4                                                  1                          \n",
       "\n",
       "  FIEBRE ITU TIPO DE CULTIVO AGENTE AISLADO  \\\n",
       "0     SI  NO              NO             NO   \n",
       "1     SI  NO              NO             NO   \n",
       "2     SI  NO     HEMOCULTIVO         E.COLI   \n",
       "3     SI  NO              NO             NO   \n",
       "4     SI  NO     HEMOCULTIVO         E.COLI   \n",
       "\n",
       "                  PATRON DE RESISTENCIA HOSPITALIZACION  \\\n",
       "0                                    NO              SI   \n",
       "1                                    NO              SI   \n",
       "2   AMPI R, CIPRO R, GENTA R, SULFA M R              SI   \n",
       "3                                    NO              SI   \n",
       "4                                    NO              SI   \n",
       "\n",
       "   DIAS HOSPITALIZACION MQ  DIAS HOSPITALIZACIÓN UPC  \n",
       "0                      2.0                       0.0  \n",
       "1                      5.0                       0.0  \n",
       "2                      4.0                       3.0  \n",
       "3                      5.0                       0.0  \n",
       "4                      4.0                       3.0  "
      ]
     },
     "execution_count": 69,
     "metadata": {},
     "output_type": "execute_result"
    }
   ],
   "source": [
    "df.head()"
   ]
  },
  {
   "cell_type": "markdown",
   "metadata": {},
   "source": [
    "##### Procedemos a la visualización de los datos"
   ]
  },
  {
   "cell_type": "markdown",
   "metadata": {},
   "source": [
    "+ Histograma de variables numéricas"
   ]
  },
  {
   "cell_type": "code",
   "execution_count": null,
   "metadata": {},
   "outputs": [],
   "source": [
    "# Crea un histograma de la variable EDAD\n",
    "plt.hist(df[\"Edad\"],bins=15)\n",
    "plt.xlabel(\"Edad\")\n",
    "plt.ylabel(\"frecuencia\")\n",
    "plt.title(\"Histograma de las Edades\")"
   ]
  },
  {
   "cell_type": "code",
   "execution_count": null,
   "metadata": {},
   "outputs": [],
   "source": [
    "# Crea un histograma de la variable NUMERO DE MUESTRAS TOMADAS\n",
    "plt.hist(df[\"Nro_muestras\"],bins=15)\n",
    "plt.xlabel(\"Numero de Muestras\")\n",
    "plt.ylabel(\"Frecuencia\")\n",
    "plt.title(\"Histograma de la Cantidad de Muestras Tomadas\")"
   ]
  },
  {
   "cell_type": "code",
   "execution_count": null,
   "metadata": {},
   "outputs": [],
   "source": [
    "# Crea un histograma de la variable DIAS HOSPITALIZADOS MQ\n",
    "plt.hist(df[\"Dias_hosp_mq\"],bins=15)\n",
    "plt.xlabel(\"Cantidad días Hospitalizado MQ\")\n",
    "plt.ylabel(\"Frecuencia\")\n",
    "plt.title(\"Histograma de la Cantidad días Hospitalizado MQ\")"
   ]
  },
  {
   "cell_type": "code",
   "execution_count": null,
   "metadata": {},
   "outputs": [],
   "source": [
    "# # Crea un histograma de la variable DIAS HOSPITALIZADOS UPC\n",
    "plt.hist(df[\"Dias_hosp_upc\"],bins=15)\n",
    "plt.xlabel(\"Cantidad días Hospitalizado UPC\")\n",
    "plt.ylabel(\"Frecuencia\")\n",
    "plt.title(\"Histograma de la Cantidad días Hospitalizado UPC\")"
   ]
  },
  {
   "cell_type": "markdown",
   "metadata": {},
   "source": [
    "+ Boxplot de variables numéricas"
   ]
  },
  {
   "cell_type": "code",
   "execution_count": null,
   "metadata": {},
   "outputs": [],
   "source": [
    "df.boxplot(figsize=(15, 10))\n"
   ]
  },
  {
   "cell_type": "markdown",
   "metadata": {},
   "source": [
    "+ Distribución de variables categóricas"
   ]
  },
  {
   "cell_type": "code",
   "execution_count": null,
   "metadata": {},
   "outputs": [],
   "source": [
    "for col in df.select_dtypes(include=['object', 'category']):\n",
    "    sns.countplot(x=col, data=df)"
   ]
  }
 ],
 "metadata": {
  "kernelspec": {
   "display_name": "Python 3",
   "language": "python",
   "name": "python3"
  },
  "language_info": {
   "codemirror_mode": {
    "name": "ipython",
    "version": 3
   },
   "file_extension": ".py",
   "mimetype": "text/x-python",
   "name": "python",
   "nbconvert_exporter": "python",
   "pygments_lexer": "ipython3",
   "version": "3.10.11"
  }
 },
 "nbformat": 4,
 "nbformat_minor": 2
}

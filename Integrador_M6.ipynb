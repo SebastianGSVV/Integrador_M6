{
 "cells": [
  {
   "cell_type": "markdown",
   "metadata": {},
   "source": [
    "# Integrador del Módulo 6"
   ]
  },
  {
   "cell_type": "markdown",
   "metadata": {},
   "source": [
    "### Realizamos la Extracción, Transformación y Carga\n",
    "\n",
    "Se realiza el ETL sobre el dataframe provisto por el cliente."
   ]
  },
  {
   "cell_type": "markdown",
   "metadata": {},
   "source": [
    "##### Importamos las librerías"
   ]
  },
  {
   "cell_type": "code",
   "execution_count": 113,
   "metadata": {},
   "outputs": [],
   "source": [
    "import numpy as np \n",
    "import pandas as pd \n",
    "import matplotlib.pyplot as plt\n",
    "import seaborn as sns"
   ]
  },
  {
   "cell_type": "markdown",
   "metadata": {},
   "source": [
    "##### Cargamos el Dataframe"
   ]
  },
  {
   "cell_type": "code",
   "execution_count": 114,
   "metadata": {},
   "outputs": [],
   "source": [
    "df = pd.read_csv('Datasets/BBDD_Hospitalización.csv', encoding='ISO-8859-1')"
   ]
  },
  {
   "cell_type": "markdown",
   "metadata": {},
   "source": [
    "##### Realizamos una descripción general de los datos"
   ]
  },
  {
   "cell_type": "markdown",
   "metadata": {},
   "source": [
    "Se realiza una exploración de los datos, para conocer su estructura y tipos de datos, para obtener la información. "
   ]
  },
  {
   "cell_type": "code",
   "execution_count": 115,
   "metadata": {},
   "outputs": [
    {
     "data": {
      "text/html": [
       "<div>\n",
       "<style scoped>\n",
       "    .dataframe tbody tr th:only-of-type {\n",
       "        vertical-align: middle;\n",
       "    }\n",
       "\n",
       "    .dataframe tbody tr th {\n",
       "        vertical-align: top;\n",
       "    }\n",
       "\n",
       "    .dataframe thead th {\n",
       "        text-align: right;\n",
       "    }\n",
       "</style>\n",
       "<table border=\"1\" class=\"dataframe\">\n",
       "  <thead>\n",
       "    <tr style=\"text-align: right;\">\n",
       "      <th></th>\n",
       "      <th>EDAD</th>\n",
       "      <th>DIABETES</th>\n",
       "      <th>HOSPITALIZACIÓN ULTIMO MES</th>\n",
       "      <th>PSA</th>\n",
       "      <th>BIOPSIAS PREVIAS</th>\n",
       "      <th>VOLUMEN PROSTATICO</th>\n",
       "      <th>ANTIBIOTICO UTILIAZADO EN LA PROFILAXIS</th>\n",
       "      <th>NUMERO DE MUESTRAS TOMADAS</th>\n",
       "      <th>CUP</th>\n",
       "      <th>ENF. CRONICA PULMONAR OBSTRUCTIVA</th>\n",
       "      <th>BIOPSIA</th>\n",
       "      <th>NUMERO DE DIAS POST BIOPSIA EN QUE SE PRESENTA LA COMPLICACIÓN INFECCIOSA</th>\n",
       "      <th>FIEBRE</th>\n",
       "      <th>ITU</th>\n",
       "      <th>TIPO DE CULTIVO</th>\n",
       "      <th>AGENTE AISLADO</th>\n",
       "      <th>PATRON DE RESISTENCIA</th>\n",
       "      <th>HOSPITALIZACION</th>\n",
       "      <th>DIAS HOSPITALIZACION MQ</th>\n",
       "      <th>DIAS HOSPITALIZACIÓN UPC</th>\n",
       "    </tr>\n",
       "  </thead>\n",
       "  <tbody>\n",
       "    <tr>\n",
       "      <th>0</th>\n",
       "      <td>53.0</td>\n",
       "      <td>NO</td>\n",
       "      <td>NO</td>\n",
       "      <td>4</td>\n",
       "      <td>NO</td>\n",
       "      <td>SI</td>\n",
       "      <td>FLUOROQUINOLONA_AMINOGLICOSIDO</td>\n",
       "      <td>12.0</td>\n",
       "      <td>NO</td>\n",
       "      <td>NO</td>\n",
       "      <td>NEG</td>\n",
       "      <td>1</td>\n",
       "      <td>SI</td>\n",
       "      <td>NO</td>\n",
       "      <td>NO</td>\n",
       "      <td>NO</td>\n",
       "      <td>NO</td>\n",
       "      <td>SI</td>\n",
       "      <td>2.0</td>\n",
       "      <td>0.0</td>\n",
       "    </tr>\n",
       "    <tr>\n",
       "      <th>1</th>\n",
       "      <td>56.0</td>\n",
       "      <td>NO</td>\n",
       "      <td>NO</td>\n",
       "      <td>7,7</td>\n",
       "      <td>NO</td>\n",
       "      <td>SI</td>\n",
       "      <td>FLUOROQUINOLONA_AMINOGLICOSIDO</td>\n",
       "      <td>12.0</td>\n",
       "      <td>NO</td>\n",
       "      <td>NO</td>\n",
       "      <td>NEG</td>\n",
       "      <td>1</td>\n",
       "      <td>SI</td>\n",
       "      <td>NO</td>\n",
       "      <td>NO</td>\n",
       "      <td>NO</td>\n",
       "      <td>NO</td>\n",
       "      <td>SI</td>\n",
       "      <td>5.0</td>\n",
       "      <td>0.0</td>\n",
       "    </tr>\n",
       "    <tr>\n",
       "      <th>2</th>\n",
       "      <td>57.0</td>\n",
       "      <td>NO</td>\n",
       "      <td>NO</td>\n",
       "      <td>29</td>\n",
       "      <td>SI</td>\n",
       "      <td>SI</td>\n",
       "      <td>FLUOROQUINOLONA_AMINOGLICOSIDO</td>\n",
       "      <td>24.0</td>\n",
       "      <td>NO</td>\n",
       "      <td>NO</td>\n",
       "      <td>NEG</td>\n",
       "      <td>1</td>\n",
       "      <td>SI</td>\n",
       "      <td>NO</td>\n",
       "      <td>HEMOCULTIVO</td>\n",
       "      <td>E.COLI</td>\n",
       "      <td>AMPI R, CIPRO R, GENTA R, SULFA M R</td>\n",
       "      <td>SI</td>\n",
       "      <td>4.0</td>\n",
       "      <td>3.0</td>\n",
       "    </tr>\n",
       "    <tr>\n",
       "      <th>3</th>\n",
       "      <td>56.0</td>\n",
       "      <td>NO</td>\n",
       "      <td>NO</td>\n",
       "      <td>7</td>\n",
       "      <td>NO</td>\n",
       "      <td>SI</td>\n",
       "      <td>FLUOROQUINOLONA_AMINOGLICOSIDO</td>\n",
       "      <td>12.0</td>\n",
       "      <td>NO</td>\n",
       "      <td>NO</td>\n",
       "      <td>NEG</td>\n",
       "      <td>1</td>\n",
       "      <td>SI</td>\n",
       "      <td>NO</td>\n",
       "      <td>NO</td>\n",
       "      <td>NO</td>\n",
       "      <td>NO</td>\n",
       "      <td>SI</td>\n",
       "      <td>5.0</td>\n",
       "      <td>0.0</td>\n",
       "    </tr>\n",
       "    <tr>\n",
       "      <th>4</th>\n",
       "      <td>55.0</td>\n",
       "      <td>NO</td>\n",
       "      <td>NO</td>\n",
       "      <td>29</td>\n",
       "      <td>SI</td>\n",
       "      <td>SI</td>\n",
       "      <td>FLUOROQUINOLONA_AMINOGLICOSIDO</td>\n",
       "      <td>24.0</td>\n",
       "      <td>NO</td>\n",
       "      <td>NO</td>\n",
       "      <td>NEG</td>\n",
       "      <td>1</td>\n",
       "      <td>SI</td>\n",
       "      <td>NO</td>\n",
       "      <td>HEMOCULTIVO</td>\n",
       "      <td>E.COLI</td>\n",
       "      <td>NO</td>\n",
       "      <td>SI</td>\n",
       "      <td>4.0</td>\n",
       "      <td>3.0</td>\n",
       "    </tr>\n",
       "  </tbody>\n",
       "</table>\n",
       "</div>"
      ],
      "text/plain": [
       "   EDAD DIABETES HOSPITALIZACIÓN ULTIMO MES  PSA BIOPSIAS PREVIAS  \\\n",
       "0  53.0       NO                         NO    4               NO   \n",
       "1  56.0       NO                         NO  7,7               NO   \n",
       "2  57.0       NO                         NO   29               SI   \n",
       "3  56.0       NO                         NO    7               NO   \n",
       "4  55.0       NO                         NO   29               SI   \n",
       "\n",
       "  VOLUMEN PROSTATICO ANTIBIOTICO UTILIAZADO EN LA PROFILAXIS  \\\n",
       "0                 SI          FLUOROQUINOLONA_AMINOGLICOSIDO   \n",
       "1                 SI          FLUOROQUINOLONA_AMINOGLICOSIDO   \n",
       "2                 SI          FLUOROQUINOLONA_AMINOGLICOSIDO   \n",
       "3                 SI          FLUOROQUINOLONA_AMINOGLICOSIDO   \n",
       "4                 SI          FLUOROQUINOLONA_AMINOGLICOSIDO   \n",
       "\n",
       "   NUMERO DE MUESTRAS TOMADAS CUP ENF. CRONICA PULMONAR OBSTRUCTIVA BIOPSIA  \\\n",
       "0                        12.0  NO                                NO     NEG   \n",
       "1                        12.0  NO                                NO     NEG   \n",
       "2                        24.0  NO                                NO     NEG   \n",
       "3                        12.0  NO                                NO     NEG   \n",
       "4                        24.0  NO                                NO     NEG   \n",
       "\n",
       "  NUMERO DE DIAS POST BIOPSIA EN QUE SE PRESENTA LA COMPLICACIÓN INFECCIOSA  \\\n",
       "0                                                  1                          \n",
       "1                                                  1                          \n",
       "2                                                  1                          \n",
       "3                                                  1                          \n",
       "4                                                  1                          \n",
       "\n",
       "  FIEBRE ITU TIPO DE CULTIVO AGENTE AISLADO  \\\n",
       "0     SI  NO              NO             NO   \n",
       "1     SI  NO              NO             NO   \n",
       "2     SI  NO     HEMOCULTIVO         E.COLI   \n",
       "3     SI  NO              NO             NO   \n",
       "4     SI  NO     HEMOCULTIVO         E.COLI   \n",
       "\n",
       "                  PATRON DE RESISTENCIA HOSPITALIZACION  \\\n",
       "0                                    NO              SI   \n",
       "1                                    NO              SI   \n",
       "2   AMPI R, CIPRO R, GENTA R, SULFA M R              SI   \n",
       "3                                    NO              SI   \n",
       "4                                    NO              SI   \n",
       "\n",
       "   DIAS HOSPITALIZACION MQ  DIAS HOSPITALIZACIÓN UPC  \n",
       "0                      2.0                       0.0  \n",
       "1                      5.0                       0.0  \n",
       "2                      4.0                       3.0  \n",
       "3                      5.0                       0.0  \n",
       "4                      4.0                       3.0  "
      ]
     },
     "execution_count": 115,
     "metadata": {},
     "output_type": "execute_result"
    }
   ],
   "source": [
    "df.head()"
   ]
  },
  {
   "cell_type": "code",
   "execution_count": 116,
   "metadata": {},
   "outputs": [
    {
     "name": "stdout",
     "output_type": "stream",
     "text": [
      "<class 'pandas.core.frame.DataFrame'>\n",
      "RangeIndex: 570 entries, 0 to 569\n",
      "Data columns (total 20 columns):\n",
      " #   Column                                                                     Non-Null Count  Dtype  \n",
      "---  ------                                                                     --------------  -----  \n",
      " 0   EDAD                                                                       568 non-null    float64\n",
      " 1   DIABETES                                                                   568 non-null    object \n",
      " 2   HOSPITALIZACIÓN ULTIMO MES                                                 568 non-null    object \n",
      " 3   PSA                                                                        564 non-null    object \n",
      " 4   BIOPSIAS PREVIAS                                                           566 non-null    object \n",
      " 5   VOLUMEN PROSTATICO                                                         567 non-null    object \n",
      " 6   ANTIBIOTICO UTILIAZADO EN LA PROFILAXIS                                    568 non-null    object \n",
      " 7   NUMERO DE MUESTRAS TOMADAS                                                 568 non-null    float64\n",
      " 8   CUP                                                                        568 non-null    object \n",
      " 9   ENF. CRONICA PULMONAR OBSTRUCTIVA                                          566 non-null    object \n",
      " 10  BIOPSIA                                                                    568 non-null    object \n",
      " 11  NUMERO DE DIAS POST BIOPSIA EN QUE SE PRESENTA LA COMPLICACIÓN INFECCIOSA  568 non-null    object \n",
      " 12  FIEBRE                                                                     568 non-null    object \n",
      " 13  ITU                                                                        568 non-null    object \n",
      " 14  TIPO DE CULTIVO                                                            568 non-null    object \n",
      " 15  AGENTE AISLADO                                                             551 non-null    object \n",
      " 16  PATRON DE RESISTENCIA                                                      568 non-null    object \n",
      " 17  HOSPITALIZACION                                                            565 non-null    object \n",
      " 18  DIAS HOSPITALIZACION MQ                                                    568 non-null    float64\n",
      " 19  DIAS HOSPITALIZACIÓN UPC                                                   568 non-null    float64\n",
      "dtypes: float64(4), object(16)\n",
      "memory usage: 89.2+ KB\n"
     ]
    }
   ],
   "source": [
    "df.info()"
   ]
  },
  {
   "cell_type": "markdown",
   "metadata": {},
   "source": [
    "##### Visualizamos los valores nulos y procedemos a la imputación de 2 filas de datos, que contienen la mayoría de los datos Nan"
   ]
  },
  {
   "cell_type": "code",
   "execution_count": 117,
   "metadata": {},
   "outputs": [
    {
     "data": {
      "text/plain": [
       "EDAD                                                                          2\n",
       "DIABETES                                                                      2\n",
       "HOSPITALIZACIÓN ULTIMO MES                                                    2\n",
       "PSA                                                                           6\n",
       "BIOPSIAS PREVIAS                                                              4\n",
       "VOLUMEN PROSTATICO                                                            3\n",
       "ANTIBIOTICO UTILIAZADO EN LA PROFILAXIS                                       2\n",
       "NUMERO DE MUESTRAS TOMADAS                                                    2\n",
       "CUP                                                                           2\n",
       "ENF. CRONICA PULMONAR OBSTRUCTIVA                                             4\n",
       "BIOPSIA                                                                       2\n",
       "NUMERO DE DIAS POST BIOPSIA EN QUE SE PRESENTA LA COMPLICACIÓN INFECCIOSA     2\n",
       "FIEBRE                                                                        2\n",
       "ITU                                                                           2\n",
       "TIPO DE CULTIVO                                                               2\n",
       "AGENTE AISLADO                                                               19\n",
       "PATRON DE RESISTENCIA                                                         2\n",
       "HOSPITALIZACION                                                               5\n",
       "DIAS HOSPITALIZACION MQ                                                       2\n",
       "DIAS HOSPITALIZACIÓN UPC                                                      2\n",
       "dtype: int64"
      ]
     },
     "execution_count": 117,
     "metadata": {},
     "output_type": "execute_result"
    }
   ],
   "source": [
    "df.isna().sum()"
   ]
  },
  {
   "cell_type": "code",
   "execution_count": 118,
   "metadata": {},
   "outputs": [],
   "source": [
    "df = df.dropna(subset=[\"EDAD\"])"
   ]
  },
  {
   "cell_type": "code",
   "execution_count": 119,
   "metadata": {},
   "outputs": [
    {
     "data": {
      "text/plain": [
       "EDAD                                                                          0\n",
       "DIABETES                                                                      0\n",
       "HOSPITALIZACIÓN ULTIMO MES                                                    0\n",
       "PSA                                                                           4\n",
       "BIOPSIAS PREVIAS                                                              2\n",
       "VOLUMEN PROSTATICO                                                            1\n",
       "ANTIBIOTICO UTILIAZADO EN LA PROFILAXIS                                       0\n",
       "NUMERO DE MUESTRAS TOMADAS                                                    0\n",
       "CUP                                                                           1\n",
       "ENF. CRONICA PULMONAR OBSTRUCTIVA                                             2\n",
       "BIOPSIA                                                                       0\n",
       "NUMERO DE DIAS POST BIOPSIA EN QUE SE PRESENTA LA COMPLICACIÓN INFECCIOSA     0\n",
       "FIEBRE                                                                        0\n",
       "ITU                                                                           0\n",
       "TIPO DE CULTIVO                                                               0\n",
       "AGENTE AISLADO                                                               17\n",
       "PATRON DE RESISTENCIA                                                         0\n",
       "HOSPITALIZACION                                                               3\n",
       "DIAS HOSPITALIZACION MQ                                                       0\n",
       "DIAS HOSPITALIZACIÓN UPC                                                      0\n",
       "dtype: int64"
      ]
     },
     "execution_count": 119,
     "metadata": {},
     "output_type": "execute_result"
    }
   ],
   "source": [
    "df.isna().sum()"
   ]
  },
  {
   "cell_type": "markdown",
   "metadata": {},
   "source": [
    "\n",
    "##### Resumen estadístico del estado actual de las variables categóricas"
   ]
  },
  {
   "cell_type": "code",
   "execution_count": 93,
   "metadata": {},
   "outputs": [
    {
     "data": {
      "text/html": [
       "<div>\n",
       "<style scoped>\n",
       "    .dataframe tbody tr th:only-of-type {\n",
       "        vertical-align: middle;\n",
       "    }\n",
       "\n",
       "    .dataframe tbody tr th {\n",
       "        vertical-align: top;\n",
       "    }\n",
       "\n",
       "    .dataframe thead th {\n",
       "        text-align: right;\n",
       "    }\n",
       "</style>\n",
       "<table border=\"1\" class=\"dataframe\">\n",
       "  <thead>\n",
       "    <tr style=\"text-align: right;\">\n",
       "      <th></th>\n",
       "      <th>EDAD</th>\n",
       "      <th>NUMERO DE MUESTRAS TOMADAS</th>\n",
       "      <th>DIAS HOSPITALIZACION MQ</th>\n",
       "      <th>DIAS HOSPITALIZACIÓN UPC</th>\n",
       "    </tr>\n",
       "  </thead>\n",
       "  <tbody>\n",
       "    <tr>\n",
       "      <th>count</th>\n",
       "      <td>460.000000</td>\n",
       "      <td>460.000000</td>\n",
       "      <td>460.000000</td>\n",
       "      <td>460.000000</td>\n",
       "    </tr>\n",
       "    <tr>\n",
       "      <th>mean</th>\n",
       "      <td>64.213043</td>\n",
       "      <td>12.923913</td>\n",
       "      <td>0.204348</td>\n",
       "      <td>0.017391</td>\n",
       "    </tr>\n",
       "    <tr>\n",
       "      <th>std</th>\n",
       "      <td>9.817853</td>\n",
       "      <td>3.970572</td>\n",
       "      <td>1.061088</td>\n",
       "      <td>0.218236</td>\n",
       "    </tr>\n",
       "    <tr>\n",
       "      <th>min</th>\n",
       "      <td>39.000000</td>\n",
       "      <td>4.000000</td>\n",
       "      <td>0.000000</td>\n",
       "      <td>0.000000</td>\n",
       "    </tr>\n",
       "    <tr>\n",
       "      <th>25%</th>\n",
       "      <td>59.000000</td>\n",
       "      <td>12.000000</td>\n",
       "      <td>0.000000</td>\n",
       "      <td>0.000000</td>\n",
       "    </tr>\n",
       "    <tr>\n",
       "      <th>50%</th>\n",
       "      <td>64.000000</td>\n",
       "      <td>12.000000</td>\n",
       "      <td>0.000000</td>\n",
       "      <td>0.000000</td>\n",
       "    </tr>\n",
       "    <tr>\n",
       "      <th>75%</th>\n",
       "      <td>69.000000</td>\n",
       "      <td>12.000000</td>\n",
       "      <td>0.000000</td>\n",
       "      <td>0.000000</td>\n",
       "    </tr>\n",
       "    <tr>\n",
       "      <th>max</th>\n",
       "      <td>151.000000</td>\n",
       "      <td>24.000000</td>\n",
       "      <td>12.000000</td>\n",
       "      <td>3.000000</td>\n",
       "    </tr>\n",
       "  </tbody>\n",
       "</table>\n",
       "</div>"
      ],
      "text/plain": [
       "             EDAD  NUMERO DE MUESTRAS TOMADAS  DIAS HOSPITALIZACION MQ  \\\n",
       "count  460.000000                  460.000000               460.000000   \n",
       "mean    64.213043                   12.923913                 0.204348   \n",
       "std      9.817853                    3.970572                 1.061088   \n",
       "min     39.000000                    4.000000                 0.000000   \n",
       "25%     59.000000                   12.000000                 0.000000   \n",
       "50%     64.000000                   12.000000                 0.000000   \n",
       "75%     69.000000                   12.000000                 0.000000   \n",
       "max    151.000000                   24.000000                12.000000   \n",
       "\n",
       "       DIAS HOSPITALIZACIÓN UPC  \n",
       "count                460.000000  \n",
       "mean                   0.017391  \n",
       "std                    0.218236  \n",
       "min                    0.000000  \n",
       "25%                    0.000000  \n",
       "50%                    0.000000  \n",
       "75%                    0.000000  \n",
       "max                    3.000000  "
      ]
     },
     "execution_count": 93,
     "metadata": {},
     "output_type": "execute_result"
    }
   ],
   "source": [
    "df.describe()"
   ]
  },
  {
   "cell_type": "code",
   "execution_count": 94,
   "metadata": {},
   "outputs": [
    {
     "data": {
      "text/html": [
       "<div>\n",
       "<style scoped>\n",
       "    .dataframe tbody tr th:only-of-type {\n",
       "        vertical-align: middle;\n",
       "    }\n",
       "\n",
       "    .dataframe tbody tr th {\n",
       "        vertical-align: top;\n",
       "    }\n",
       "\n",
       "    .dataframe thead th {\n",
       "        text-align: right;\n",
       "    }\n",
       "</style>\n",
       "<table border=\"1\" class=\"dataframe\">\n",
       "  <thead>\n",
       "    <tr style=\"text-align: right;\">\n",
       "      <th></th>\n",
       "      <th>DIABETES</th>\n",
       "      <th>HOSPITALIZACIÓN ULTIMO MES</th>\n",
       "      <th>PSA</th>\n",
       "      <th>BIOPSIAS PREVIAS</th>\n",
       "      <th>VOLUMEN PROSTATICO</th>\n",
       "      <th>ANTIBIOTICO UTILIAZADO EN LA PROFILAXIS</th>\n",
       "      <th>CUP</th>\n",
       "      <th>ENF. CRONICA PULMONAR OBSTRUCTIVA</th>\n",
       "      <th>BIOPSIA</th>\n",
       "      <th>NUMERO DE DIAS POST BIOPSIA EN QUE SE PRESENTA LA COMPLICACIÓN INFECCIOSA</th>\n",
       "      <th>FIEBRE</th>\n",
       "      <th>ITU</th>\n",
       "      <th>TIPO DE CULTIVO</th>\n",
       "      <th>AGENTE AISLADO</th>\n",
       "      <th>PATRON DE RESISTENCIA</th>\n",
       "      <th>HOSPITALIZACION</th>\n",
       "    </tr>\n",
       "  </thead>\n",
       "  <tbody>\n",
       "    <tr>\n",
       "      <th>count</th>\n",
       "      <td>460</td>\n",
       "      <td>460</td>\n",
       "      <td>456</td>\n",
       "      <td>458</td>\n",
       "      <td>459</td>\n",
       "      <td>460</td>\n",
       "      <td>460</td>\n",
       "      <td>458</td>\n",
       "      <td>460</td>\n",
       "      <td>460</td>\n",
       "      <td>460</td>\n",
       "      <td>460</td>\n",
       "      <td>460</td>\n",
       "      <td>443</td>\n",
       "      <td>460</td>\n",
       "      <td>457</td>\n",
       "    </tr>\n",
       "    <tr>\n",
       "      <th>unique</th>\n",
       "      <td>2</td>\n",
       "      <td>2</td>\n",
       "      <td>146</td>\n",
       "      <td>2</td>\n",
       "      <td>2</td>\n",
       "      <td>5</td>\n",
       "      <td>3</td>\n",
       "      <td>4</td>\n",
       "      <td>11</td>\n",
       "      <td>6</td>\n",
       "      <td>2</td>\n",
       "      <td>2</td>\n",
       "      <td>4</td>\n",
       "      <td>3</td>\n",
       "      <td>5</td>\n",
       "      <td>2</td>\n",
       "    </tr>\n",
       "    <tr>\n",
       "      <th>top</th>\n",
       "      <td>NO</td>\n",
       "      <td>NO</td>\n",
       "      <td>6</td>\n",
       "      <td>NO</td>\n",
       "      <td>SI</td>\n",
       "      <td>FLUOROQUINOLONA_AMINOGLICOSIDO</td>\n",
       "      <td>NO</td>\n",
       "      <td>NO</td>\n",
       "      <td>NEG</td>\n",
       "      <td>NO</td>\n",
       "      <td>NO</td>\n",
       "      <td>NO</td>\n",
       "      <td>NO</td>\n",
       "      <td>NO</td>\n",
       "      <td>NO</td>\n",
       "      <td>NO</td>\n",
       "    </tr>\n",
       "    <tr>\n",
       "      <th>freq</th>\n",
       "      <td>408</td>\n",
       "      <td>456</td>\n",
       "      <td>24</td>\n",
       "      <td>410</td>\n",
       "      <td>326</td>\n",
       "      <td>365</td>\n",
       "      <td>456</td>\n",
       "      <td>442</td>\n",
       "      <td>231</td>\n",
       "      <td>434</td>\n",
       "      <td>423</td>\n",
       "      <td>454</td>\n",
       "      <td>452</td>\n",
       "      <td>435</td>\n",
       "      <td>453</td>\n",
       "      <td>433</td>\n",
       "    </tr>\n",
       "  </tbody>\n",
       "</table>\n",
       "</div>"
      ],
      "text/plain": [
       "       DIABETES HOSPITALIZACIÓN ULTIMO MES  PSA BIOPSIAS PREVIAS  \\\n",
       "count       460                        460  456              458   \n",
       "unique        2                          2  146                2   \n",
       "top          NO                         NO    6               NO   \n",
       "freq        408                        456   24              410   \n",
       "\n",
       "       VOLUMEN PROSTATICO ANTIBIOTICO UTILIAZADO EN LA PROFILAXIS  CUP  \\\n",
       "count                 459                                     460  460   \n",
       "unique                  2                                       5    3   \n",
       "top                    SI          FLUOROQUINOLONA_AMINOGLICOSIDO   NO   \n",
       "freq                  326                                     365  456   \n",
       "\n",
       "       ENF. CRONICA PULMONAR OBSTRUCTIVA BIOPSIA  \\\n",
       "count                                458     460   \n",
       "unique                                 4      11   \n",
       "top                                   NO     NEG   \n",
       "freq                                 442     231   \n",
       "\n",
       "       NUMERO DE DIAS POST BIOPSIA EN QUE SE PRESENTA LA COMPLICACIÓN INFECCIOSA  \\\n",
       "count                                                 460                          \n",
       "unique                                                  6                          \n",
       "top                                                    NO                          \n",
       "freq                                                  434                          \n",
       "\n",
       "       FIEBRE  ITU TIPO DE CULTIVO AGENTE AISLADO PATRON DE RESISTENCIA  \\\n",
       "count     460  460             460            443                   460   \n",
       "unique      2    2               4              3                     5   \n",
       "top        NO   NO              NO             NO                    NO   \n",
       "freq      423  454             452            435                   453   \n",
       "\n",
       "       HOSPITALIZACION  \n",
       "count              457  \n",
       "unique               2  \n",
       "top                 NO  \n",
       "freq               433  "
      ]
     },
     "execution_count": 94,
     "metadata": {},
     "output_type": "execute_result"
    }
   ],
   "source": [
    "df.describe(include=['category', 'object'])"
   ]
  },
  {
   "cell_type": "markdown",
   "metadata": {},
   "source": [
    "### Transformamos los tipos de datos"
   ]
  },
  {
   "cell_type": "code",
   "execution_count": null,
   "metadata": {},
   "outputs": [],
   "source": [
    "df['DIABETES'] = df['DIABETES'].astype('category')\n",
    "df['HOSPITALIZACIÓN ULTIMO MES'] = df['HOSPITALIZACIÓN ULTIMO MES'].astype('category')\n",
    "df['BIOPSIAS PREVIAS'] = df['BIOPSIAS PREVIAS'].astype('category')\n",
    "df['VOLUMEN PROSTATICO'] = df['VOLUMEN PROSTATICO'].astype('category')\n",
    "df['ANTIBIOTICO UTILIAZADO EN LA PROFILAXIS'] = df['ANTIBIOTICO UTILIAZADO EN LA PROFILAXIS'].astype('category')\n",
    "df['CUP'] = df['CUP'].astype('category')\n",
    "df['ENF. CRONICA PULMONAR OBSTRUCTIVA'] = df['ENF. CRONICA PULMONAR OBSTRUCTIVA'].astype('category')\n",
    "df['BIOPSIA'] = df['BIOPSIA'].astype('category')\n",
    "df['NUMERO DE DIAS POST BIOPSIA EN QUE SE PRESENTA LA COMPLICACIÓN INFECCIOSA'] = df['NUMERO DE DIAS POST BIOPSIA EN QUE SE PRESENTA LA COMPLICACIÓN INFECCIOSA'].astype('category')\n",
    "df['FIEBRE'] =df['FIEBRE'].astype('category')\n",
    "df['ITU'] =df['ITU'].astype('category')\n",
    "df['TIPO DE CULTIVO'] =df['TIPO DE CULTIVO'].astype('str')\n",
    "df['AGENTE AISLADO'] =df['AGENTE AISLADO'].astype('str')\n",
    "df['PATRON DE RESISTENCIA'] =df['PATRON DE RESISTENCIA'].astype('category')\n",
    "df['HOSPITALIZACION'] =df['HOSPITALIZACION'].astype('category')"
   ]
  },
  {
   "cell_type": "markdown",
   "metadata": {},
   "source": [
    "### Realizamos la estandarización y correciones por columna categórica"
   ]
  },
  {
   "cell_type": "code",
   "execution_count": 95,
   "metadata": {},
   "outputs": [
    {
     "data": {
      "text/plain": [
       "['NO', 'SI, EPOC', 'SI, ASMA', 'SI', nan]"
      ]
     },
     "execution_count": 95,
     "metadata": {},
     "output_type": "execute_result"
    }
   ],
   "source": [
    "#Diabetes\n",
    "#list(df['DIABETES'].unique())\n",
    "#list(df['BIOPSIA'].unique())\n",
    "#list(df['HOSPITALIZACIÓN ULTIMO MES'].unique())\n",
    "#list(df['BIOPSIAS PREVIAS'].unique())\n",
    "#list(df['ANTIBIOTICO UTILIZADO EN LA PROFILAXIS'].unique())\n",
    "#Están correctas\n",
    "\n",
    "list(df['ENF. CRONICA PULMONAR OBSTRUCTIVA'].unique())"
   ]
  },
  {
   "cell_type": "code",
   "execution_count": 96,
   "metadata": {},
   "outputs": [],
   "source": [
    "# Crearemos una columna que ayude a segmentar la columna 'ENF. CRONICA PULMONAR OBSTRUCTIVA'\n",
    "# 1. Duplicamos la columna\n",
    "df['ENF. CRONICA PULMONAR OBSTRUCTIVA TIPO']=df['ENF. CRONICA PULMONAR OBSTRUCTIVA'].copy()\n",
    "# 2. Corregimos la columna 'ENF. CRONICA PULMONAR OBSTRUCTIVA'\n",
    "df['ENF. CRONICA PULMONAR OBSTRUCTIVA']=df['ENF. CRONICA PULMONAR OBSTRUCTIVA'].replace({'SI, EPOC','SI, ASMA'},'SI')\n",
    "# 3. Corregimos la columa 'ENF. CRONICA PULMONAR OBSTRUCTIVA TIPO'\n",
    "df['ENF. CRONICA PULMONAR OBSTRUCTIVA TIPO']=df['ENF. CRONICA PULMONAR OBSTRUCTIVA TIPO'].replace('SI, EPOC','EPOC')\n",
    "df['ENF. CRONICA PULMONAR OBSTRUCTIVA TIPO']=df['ENF. CRONICA PULMONAR OBSTRUCTIVA TIPO'].replace('SI, ASMA','ASMA')\n"
   ]
  },
  {
   "cell_type": "code",
   "execution_count": 97,
   "metadata": {},
   "outputs": [],
   "source": [
    "# Corregimos el nombre de la columna \n",
    "df = df.rename(columns={\"ANTIBIOTICO UTILIAZADO EN LA PROFILAXIS\": \"ANTIBIOTICO UTILIZADO EN LA PROFILAXIS\"})\n",
    "\n",
    "list(df['ANTIBIOTICO UTILIZADO EN LA PROFILAXIS'].unique())\n",
    "\n",
    "# Corregimos los valores duplicados\n",
    "df['ANTIBIOTICO UTILIZADO EN LA PROFILAXIS'] = df['ANTIBIOTICO UTILIZADO EN LA PROFILAXIS'].replace('FLUOROQUINOLONA_AMINOGLICÓSIDO', 'FLUOROQUINOLONA_AMINOGLICOSIDO')\n"
   ]
  },
  {
   "cell_type": "code",
   "execution_count": 98,
   "metadata": {},
   "outputs": [],
   "source": [
    "# Corregiremos la columna, recortando los espacios a los costados\n",
    "df['BIOPSIA']=df['BIOPSIA'].str.strip()"
   ]
  },
  {
   "cell_type": "code",
   "execution_count": 99,
   "metadata": {},
   "outputs": [
    {
     "data": {
      "text/plain": [
       "['1', '2', '3', '5', '9', 'NO', nan]"
      ]
     },
     "execution_count": 99,
     "metadata": {},
     "output_type": "execute_result"
    }
   ],
   "source": [
    "# Campo \"NUMERO DE DIAS POST BIOPSIA EN QUE SE PRESENTA LA COMPLICACIÓN INFECCIOSA\"\n",
    "list(df['NUMERO DE DIAS POST BIOPSIA EN QUE SE PRESENTA LA COMPLICACIÓN INFECCIOSA'].unique())"
   ]
  },
  {
   "cell_type": "code",
   "execution_count": 100,
   "metadata": {},
   "outputs": [
    {
     "data": {
      "text/plain": [
       "['NO', 'HEMOCULTIVO', 'UROCULTIVO', 'HEMOCULTIVO Y UROCULTIVO', nan]"
      ]
     },
     "execution_count": 100,
     "metadata": {},
     "output_type": "execute_result"
    }
   ],
   "source": [
    "# Campo \"TIPO DE CULTIVO\"\n",
    "list(df['TIPO DE CULTIVO'].unique())"
   ]
  },
  {
   "cell_type": "code",
   "execution_count": 101,
   "metadata": {},
   "outputs": [
    {
     "name": "stderr",
     "output_type": "stream",
     "text": [
      "C:\\Users\\Cebol\\AppData\\Local\\Temp\\ipykernel_18444\\1405477460.py:2: FutureWarning: Series.replace without 'value' and with non-dict-like 'to_replace' is deprecated and will raise in a future version. Explicitly specify the new values instead.\n",
      "  df['AGENTE AISLADO']=df['AGENTE AISLADO'].replace('nan',)\n"
     ]
    }
   ],
   "source": [
    "# Campo \"AGENTE AISLADO\"\n",
    "df['AGENTE AISLADO']=df['AGENTE AISLADO'].replace('nan',)"
   ]
  },
  {
   "cell_type": "code",
   "execution_count": 102,
   "metadata": {},
   "outputs": [
    {
     "data": {
      "text/plain": [
       "['NO', 'E.COLI', 'PSEUDOMONAS AERUGINOSA', nan]"
      ]
     },
     "execution_count": 102,
     "metadata": {},
     "output_type": "execute_result"
    }
   ],
   "source": [
    "list(df['AGENTE AISLADO'].unique())"
   ]
  },
  {
   "cell_type": "code",
   "execution_count": 103,
   "metadata": {},
   "outputs": [
    {
     "data": {
      "text/plain": [
       "['NO',\n",
       " ' AMPI R, CIPRO R, GENTA R, SULFA M R',\n",
       " 'RESISTENTE A AMPI, CIPRO Y GENTA',\n",
       " 'RESISTENTE A AMPI, SULFA, CEFADROXILO, CEFUROXIMO, CIPRO Y CEFEPIME, CEFOTAXIMA',\n",
       " 'MULTI SENSIBLE',\n",
       " nan]"
      ]
     },
     "execution_count": 103,
     "metadata": {},
     "output_type": "execute_result"
    }
   ],
   "source": [
    "# Campo \"PATRON DE RESISTENCIA\"\n",
    "list(df['PATRON DE RESISTENCIA'].unique())"
   ]
  },
  {
   "cell_type": "markdown",
   "metadata": {},
   "source": [
    "##### Procedemos a la visualización de los datos"
   ]
  },
  {
   "cell_type": "markdown",
   "metadata": {},
   "source": [
    "+ Histograma de variables numéricas"
   ]
  },
  {
   "cell_type": "code",
   "execution_count": 104,
   "metadata": {},
   "outputs": [
    {
     "data": {
      "text/plain": [
       "Text(0.5, 1.0, 'Histograma de las Edades')"
      ]
     },
     "execution_count": 104,
     "metadata": {},
     "output_type": "execute_result"
    },
    {
     "data": {
      "image/png": "[encoded data removed]",
      "text/plain": [
       "<Figure size 640x480 with 1 Axes>"
      ]
     },
     "metadata": {},
     "output_type": "display_data"
    }
   ],
   "source": [
    "# Crea un histograma de la variable EDAD\n",
    "plt.hist(df[\"EDAD\"],bins=15)\n",
    "plt.xlabel(\"Edad\")\n",
    "plt.ylabel(\"frecuencia\")\n",
    "plt.title(\"Histograma de las Edades\")"
   ]
  },
  {
   "cell_type": "code",
   "execution_count": 105,
   "metadata": {},
   "outputs": [
    {
     "data": {
      "text/plain": [
       "Text(0.5, 1.0, 'Histograma de la Cantidad de Muestras Tomadas')"
      ]
     },
     "execution_count": 105,
     "metadata": {},
     "output_type": "execute_result"
    },
    {
     "data": {
      "image/png": "[encoded data removed]",
      "text/plain": [
       "<Figure size 640x480 with 1 Axes>"
      ]
     },
     "metadata": {},
     "output_type": "display_data"
    }
   ],
   "source": [
    "# Crea un histograma de la variable NUMERO DE MUESTRAS TOMADAS\n",
    "plt.hist(df[\"NUMERO DE MUESTRAS TOMADAS\"],bins=15)\n",
    "plt.xlabel(\"Numero de Muestras\")\n",
    "plt.ylabel(\"Frecuencia\")\n",
    "plt.title(\"Histograma de la Cantidad de Muestras Tomadas\")"
   ]
  },
  {
   "cell_type": "code",
   "execution_count": 106,
   "metadata": {},
   "outputs": [
    {
     "data": {
      "text/plain": [
       "Text(0.5, 1.0, 'Histograma de la Cantidad días Hospitalizado MQ')"
      ]
     },
     "execution_count": 106,
     "metadata": {},
     "output_type": "execute_result"
    },
    {
     "data": {
      "image/png": "[encoded data removed]",
      "text/plain": [
       "<Figure size 640x480 with 1 Axes>"
      ]
     },
     "metadata": {},
     "output_type": "display_data"
    }
   ],
   "source": [
    "# Crea un histograma de la variable DIAS HOSPITALIZADOS MQ\n",
    "plt.hist(df[\"DIAS HOSPITALIZACION MQ\"],bins=15)\n",
    "plt.xlabel(\"Cantidad días Hospitalizado MQ\")\n",
    "plt.ylabel(\"Frecuencia\")\n",
    "plt.title(\"Histograma de la Cantidad días Hospitalizado MQ\")"
   ]
  },
  {
   "cell_type": "code",
   "execution_count": 107,
   "metadata": {},
   "outputs": [
    {
     "data": {
      "text/plain": [
       "Text(0.5, 1.0, 'Histograma de la Cantidad días Hospitalizado UPC')"
      ]
     },
     "execution_count": 107,
     "metadata": {},
     "output_type": "execute_result"
    },
    {
     "data": {
      "image/png": "[encoded data removed]",
      "text/plain": [
       "<Figure size 640x480 with 1 Axes>"
      ]
     },
     "metadata": {},
     "output_type": "display_data"
    }
   ],
   "source": [
    "# # Crea un histograma de la variable DIAS HOSPITALIZADOS UPC\n",
    "plt.hist(df[\"DIAS HOSPITALIZACIÓN UPC\"],bins=15)\n",
    "plt.xlabel(\"Cantidad días Hospitalizado UPC\")\n",
    "plt.ylabel(\"Frecuencia\")\n",
    "plt.title(\"Histograma de la Cantidad días Hospitalizado UPC\")"
   ]
  },
  {
   "cell_type": "markdown",
   "metadata": {},
   "source": [
    "+ Boxplot de variables numéricas"
   ]
  },
  {
   "cell_type": "code",
   "execution_count": 108,
   "metadata": {},
   "outputs": [
    {
     "data": {
      "text/plain": [
       "<Axes: >"
      ]
     },
     "execution_count": 108,
     "metadata": {},
     "output_type": "execute_result"
    },
    {
     "data": {
      "image/png": "[encoded data removed]",
      "text/plain": [
       "<Figure size 1500x1000 with 1 Axes>"
      ]
     },
     "metadata": {},
     "output_type": "display_data"
    }
   ],
   "source": [
    "df.boxplot(figsize=(15, 10))\n"
   ]
  },
  {
   "cell_type": "markdown",
   "metadata": {},
   "source": [
    "+ Distribución de variables categóricas"
   ]
  },
  {
   "cell_type": "code",
   "execution_count": 109,
   "metadata": {},
   "outputs": [
    {
     "data": {
      "image/png": "[encoded data removed]",
      "text/plain": [
       "<Figure size 640x480 with 1 Axes>"
      ]
     },
     "metadata": {},
     "output_type": "display_data"
    }
   ],
   "source": [
    "for col in df.select_dtypes(include=['object', 'category']):\n",
    "    sns.countplot(x=col, data=df)"
   ]
  },
  {
   "cell_type": "markdown",
   "metadata": {},
   "source": [
    "##### Buscamos la cantidad de valores nulos"
   ]
  },
  {
   "cell_type": "code",
   "execution_count": 110,
   "metadata": {},
   "outputs": [
    {
     "data": {
      "text/plain": [
       "EDAD                                                                          2\n",
       "DIABETES                                                                      2\n",
       "HOSPITALIZACIÓN ULTIMO MES                                                    2\n",
       "PSA                                                                           6\n",
       "BIOPSIAS PREVIAS                                                              4\n",
       "VOLUMEN PROSTATICO                                                            3\n",
       "ANTIBIOTICO UTILIZADO EN LA PROFILAXIS                                        2\n",
       "NUMERO DE MUESTRAS TOMADAS                                                    2\n",
       "CUP                                                                           2\n",
       "ENF. CRONICA PULMONAR OBSTRUCTIVA                                             4\n",
       "BIOPSIA                                                                       2\n",
       "NUMERO DE DIAS POST BIOPSIA EN QUE SE PRESENTA LA COMPLICACIÓN INFECCIOSA     2\n",
       "FIEBRE                                                                        2\n",
       "ITU                                                                           2\n",
       "TIPO DE CULTIVO                                                               2\n",
       "AGENTE AISLADO                                                               19\n",
       "PATRON DE RESISTENCIA                                                         2\n",
       "HOSPITALIZACION                                                               5\n",
       "DIAS HOSPITALIZACION MQ                                                       2\n",
       "DIAS HOSPITALIZACIÓN UPC                                                      2\n",
       "ENF. CRONICA PULMONAR OBSTRUCTIVA TIPO                                        4\n",
       "dtype: int64"
      ]
     },
     "execution_count": 110,
     "metadata": {},
     "output_type": "execute_result"
    }
   ],
   "source": [
    "df.isnull().sum()"
   ]
  }
 ],
 "metadata": {
  "kernelspec": {
   "display_name": "Python 3",
   "language": "python",
   "name": "python3"
  },
  "language_info": {
   "codemirror_mode": {
    "name": "ipython",
    "version": 3
   },
   "file_extension": ".py",
   "mimetype": "text/x-python",
   "name": "python",
   "nbconvert_exporter": "python",
   "pygments_lexer": "ipython3",
   "version": "3.10.11"
  }
 },
 "nbformat": 4,
 "nbformat_minor": 2
}
